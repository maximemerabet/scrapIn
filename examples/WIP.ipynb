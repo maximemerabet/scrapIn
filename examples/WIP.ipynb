{
 "cells": [
  {
   "cell_type": "code",
   "execution_count": 1,
   "metadata": {},
   "outputs": [],
   "source": [
    "import sys\n",
    "sys.path.append('../')\n",
    "\n",
    "from src.scraper import Authenticator, Scraper"
   ]
  },
  {
   "cell_type": "code",
   "execution_count": 2,
   "metadata": {},
   "outputs": [
    {
     "name": "stderr",
     "output_type": "stream",
     "text": [
      "INFO:scraper:Loading parameters..\n"
     ]
    }
   ],
   "source": [
    "auth = Authenticator(credentials=open('creds').read().split('\\n'))"
   ]
  },
  {
   "cell_type": "code",
   "execution_count": 3,
   "metadata": {},
   "outputs": [
    {
     "name": "stderr",
     "output_type": "stream",
     "text": [
      "INFO:scraper:Submitting credentials and loging-in\n"
     ]
    }
   ],
   "source": [
    "scraper = Scraper(authenticator=auth)"
   ]
  },
  {
   "cell_type": "code",
   "execution_count": 4,
   "metadata": {},
   "outputs": [
    {
     "name": "stderr",
     "output_type": "stream",
     "text": [
      "INFO:scraper:Passed following parameters: {'job_title': {'selenium_location': ['xpath', \"//input[@id='search-advanced-title']\"], 'input_value': 'Financial Adviser'}}\n"
     ]
    }
   ],
   "source": [
    "# Only works with job title thus far\n",
    "res = scraper.search_people(job_title='Financial Adviser')"
   ]
  },
  {
   "cell_type": "code",
   "execution_count": 5,
   "metadata": {},
   "outputs": [
    {
     "data": {
      "text/plain": [
       "['/in/emily-newton-acii-708667130/',\n",
       " '/in/jean-fran%C3%A7ois-rio-07142417/',\n",
       " '/in/annabelle-dommel-91087266/',\n",
       " '/in/nickamintzis/',\n",
       " '/in/conor-hickey/',\n",
       " '/in/annabel-speakman-dippfs-91541a24/',\n",
       " '/in/loansforpayday/',\n",
       " '/in/sebastianfuz/',\n",
       " '/in/stefan-lubek-2166033a/',\n",
       " '/in/sylvain-herrier-ciia%C2%AE-305a389/',\n",
       " '/in/evgenilekumovich/',\n",
       " '/in/romain-granger/']"
      ]
     },
     "execution_count": 5,
     "metadata": {},
     "output_type": "execute_result"
    }
   ],
   "source": [
    "res"
   ]
  },
  {
   "cell_type": "code",
   "execution_count": null,
   "metadata": {},
   "outputs": [],
   "source": []
  }
 ],
 "metadata": {
  "kernelspec": {
   "display_name": ".venv",
   "language": "python",
   "name": ".venv"
  },
  "language_info": {
   "codemirror_mode": {
    "name": "ipython",
    "version": 3
   },
   "file_extension": ".py",
   "mimetype": "text/x-python",
   "name": "python",
   "nbconvert_exporter": "python",
   "pygments_lexer": "ipython3",
   "version": "3.7.3"
  }
 },
 "nbformat": 4,
 "nbformat_minor": 2
}
