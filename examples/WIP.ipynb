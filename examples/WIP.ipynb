{
 "cells": [
  {
   "cell_type": "code",
   "execution_count": 1,
   "metadata": {},
   "outputs": [],
   "source": [
    "import sys\n",
    "sys.path.append('../')\n",
    "\n",
    "from src.scraper import Authenticator, Scraper"
   ]
  },
  {
   "cell_type": "code",
   "execution_count": 2,
   "metadata": {},
   "outputs": [
    {
     "name": "stderr",
     "output_type": "stream",
     "text": [
      "INFO:scraper:Loading parameters..\n"
     ]
    }
   ],
   "source": [
    "# Leave credentials blank for password prompt\n",
    "auth = Authenticator(credentials=open('creds.secret').read().split('\\n'))"
   ]
  },
  {
   "cell_type": "code",
   "execution_count": 3,
   "metadata": {},
   "outputs": [
    {
     "name": "stderr",
     "output_type": "stream",
     "text": [
      "INFO:scraper:Submitting credentials and loging-in\n"
     ]
    }
   ],
   "source": [
    "scraper = Scraper(authenticator=auth)"
   ]
  },
  {
   "cell_type": "code",
   "execution_count": 4,
   "metadata": {
    "scrolled": true
   },
   "outputs": [
    {
     "name": "stderr",
     "output_type": "stream",
     "text": [
      "INFO:scraper:Passed following parameters: {'job_title': ['xpath', \"//input[@id='search-advanced-title']\", 'Financial Managers']}\n"
     ]
    }
   ],
   "source": [
    "# Only works with job title thus far\n",
    "urls = scraper.search_people(job_title='Financial Managers')"
   ]
  },
  {
   "cell_type": "code",
   "execution_count": 5,
   "metadata": {},
   "outputs": [
    {
     "data": {
      "text/plain": [
       "['/in/antoine-marivin-38a7784b/',\n",
       " '/in/clive-marsh-35ba5014/',\n",
       " '/in/ron-shalom-3bb4a265/',\n",
       " '/in/paul-hayes-b5767015/',\n",
       " '/in/anders-vinther-0552554/',\n",
       " '/in/wjellissalesmanager/',\n",
       " '/in/nicholas-bolton-debbage/',\n",
       " '/in/jean-daniel-zandona-3857846/',\n",
       " '/in/marius-kriel-44919710b/',\n",
       " '/in/andrew-berney-29a7b492/']"
      ]
     },
     "execution_count": 5,
     "metadata": {},
     "output_type": "execute_result"
    }
   ],
   "source": [
    "urls[:10]"
   ]
  },
  {
   "cell_type": "code",
   "execution_count": 6,
   "metadata": {},
   "outputs": [],
   "source": [
    "scraper.driver.quit()"
   ]
  },
  {
   "cell_type": "code",
   "execution_count": null,
   "metadata": {},
   "outputs": [],
   "source": []
  }
 ],
 "metadata": {
  "kernelspec": {
   "display_name": ".venv",
   "language": "python",
   "name": ".venv"
  },
  "language_info": {
   "codemirror_mode": {
    "name": "ipython",
    "version": 3
   },
   "file_extension": ".py",
   "mimetype": "text/x-python",
   "name": "python",
   "nbconvert_exporter": "python",
   "pygments_lexer": "ipython3",
   "version": "3.7.3"
  }
 },
 "nbformat": 4,
 "nbformat_minor": 2
}
