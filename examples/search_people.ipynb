{
 "cells": [
  {
   "cell_type": "code",
   "execution_count": 1,
   "metadata": {},
   "outputs": [],
   "source": [
    "import sys\n",
    "sys.path.append('../')\n",
    "\n",
    "from src.scraper import Authenticator, Scraper\n",
    "from bs4 import BeautifulSoup"
   ]
  },
  {
   "cell_type": "code",
   "execution_count": 2,
   "metadata": {},
   "outputs": [
    {
     "name": "stderr",
     "output_type": "stream",
     "text": [
      "INFO:scraper:Loading parameters..\n"
     ]
    }
   ],
   "source": [
    "# Leave credentials blank for password prompt\n",
    "\n",
    "auth = Authenticator(credentials=open('creds.secret').read().split('\\n'))"
   ]
  },
  {
   "cell_type": "code",
   "execution_count": 3,
   "metadata": {},
   "outputs": [
    {
     "name": "stderr",
     "output_type": "stream",
     "text": [
      "INFO:scraper:Submitting credentials and loging-in\n"
     ]
    }
   ],
   "source": [
    "scraper = Scraper(authenticator=auth)"
   ]
  },
  {
   "cell_type": "code",
   "execution_count": 4,
   "metadata": {},
   "outputs": [
    {
     "name": "stderr",
     "output_type": "stream",
     "text": [
      "INFO:scraper:Passed following parameters: {'location': ['xpath', \"//input[contains(@placeholder, 'country')]\", 'London'], 'industry': ['xpath', \"//input[contains(@placeholder, 'industry')]\", 'hospitality'], 'job_title': ['xpath', \"//input[@id='search-advanced-title']\", 'Executive Chef']}\n",
      "INFO:scraper:Retrieved profiles\n"
     ]
    }
   ],
   "source": [
    "people_search = scraper.search_people(job_title='Executive Chef', location='London', industry='hospitality')"
   ]
  },
  {
   "cell_type": "code",
   "execution_count": 14,
   "metadata": {},
   "outputs": [],
   "source": [
    "people_search['company'] = people_search.Title.str.split('at',expand=True)[1]"
   ]
  },
  {
   "cell_type": "code",
   "execution_count": 16,
   "metadata": {},
   "outputs": [
    {
     "data": {
      "text/html": [
       "<div>\n",
       "<style scoped>\n",
       "    .dataframe tbody tr th:only-of-type {\n",
       "        vertical-align: middle;\n",
       "    }\n",
       "\n",
       "    .dataframe tbody tr th {\n",
       "        vertical-align: top;\n",
       "    }\n",
       "\n",
       "    .dataframe thead th {\n",
       "        text-align: right;\n",
       "    }\n",
       "</style>\n",
       "<table border=\"1\" class=\"dataframe\">\n",
       "  <thead>\n",
       "    <tr style=\"text-align: right;\">\n",
       "      <th></th>\n",
       "      <th>URL</th>\n",
       "      <th>Name</th>\n",
       "      <th>Title</th>\n",
       "      <th>Location</th>\n",
       "      <th>company</th>\n",
       "    </tr>\n",
       "  </thead>\n",
       "  <tbody>\n",
       "    <tr>\n",
       "      <th>0</th>\n",
       "      <td>https://www.linkedin.com/in/vitelio-reyes-0b51...</td>\n",
       "      <td>Vitelio Reyes</td>\n",
       "      <td>Executive Chef at Amazonico London</td>\n",
       "      <td>London, United Kingdom</td>\n",
       "      <td>Amazonico London</td>\n",
       "    </tr>\n",
       "    <tr>\n",
       "      <th>1</th>\n",
       "      <td>https://www.linkedin.com/in/denis-cogan-52055346/</td>\n",
       "      <td>Denis Cogan</td>\n",
       "      <td>Executive Chef at BaxterStorey</td>\n",
       "      <td>London, United Kingdom</td>\n",
       "      <td>BaxterStorey</td>\n",
       "    </tr>\n",
       "    <tr>\n",
       "      <th>2</th>\n",
       "      <td>#</td>\n",
       "      <td>LinkedIn Member</td>\n",
       "      <td>Executive Chef at CH&amp;Co</td>\n",
       "      <td>London, United Kingdom</td>\n",
       "      <td>CH&amp;Co</td>\n",
       "    </tr>\n",
       "    <tr>\n",
       "      <th>3</th>\n",
       "      <td>#</td>\n",
       "      <td>LinkedIn Member</td>\n",
       "      <td>Executive Chef at TLC Inns</td>\n",
       "      <td>London, United Kingdom</td>\n",
       "      <td>TLC Inns</td>\n",
       "    </tr>\n",
       "    <tr>\n",
       "      <th>4</th>\n",
       "      <td>#</td>\n",
       "      <td>LinkedIn Member</td>\n",
       "      <td>Executive Chef at Orfali</td>\n",
       "      <td>London, United Kingdom</td>\n",
       "      <td>Orfali</td>\n",
       "    </tr>\n",
       "  </tbody>\n",
       "</table>\n",
       "</div>"
      ],
      "text/plain": [
       "                                                 URL             Name  \\\n",
       "0  https://www.linkedin.com/in/vitelio-reyes-0b51...    Vitelio Reyes   \n",
       "1  https://www.linkedin.com/in/denis-cogan-52055346/      Denis Cogan   \n",
       "2                                                  #  LinkedIn Member   \n",
       "3                                                  #  LinkedIn Member   \n",
       "4                                                  #  LinkedIn Member   \n",
       "\n",
       "                                Title                Location  \\\n",
       "0  Executive Chef at Amazonico London  London, United Kingdom   \n",
       "1      Executive Chef at BaxterStorey  London, United Kingdom   \n",
       "2             Executive Chef at CH&Co  London, United Kingdom   \n",
       "3          Executive Chef at TLC Inns  London, United Kingdom   \n",
       "4            Executive Chef at Orfali  London, United Kingdom   \n",
       "\n",
       "             company  \n",
       "0   Amazonico London  \n",
       "1       BaxterStorey  \n",
       "2              CH&Co  \n",
       "3           TLC Inns  \n",
       "4             Orfali  "
      ]
     },
     "execution_count": 16,
     "metadata": {},
     "output_type": "execute_result"
    }
   ],
   "source": [
    "people_search.head()"
   ]
  },
  {
   "cell_type": "code",
   "execution_count": null,
   "metadata": {},
   "outputs": [],
   "source": []
  }
 ],
 "metadata": {
  "kernelspec": {
   "display_name": ".venv",
   "language": "python",
   "name": ".venv"
  },
  "language_info": {
   "codemirror_mode": {
    "name": "ipython",
    "version": 3
   },
   "file_extension": ".py",
   "mimetype": "text/x-python",
   "name": "python",
   "nbconvert_exporter": "python",
   "pygments_lexer": "ipython3",
   "version": "3.7.3"
  }
 },
 "nbformat": 4,
 "nbformat_minor": 2
}
