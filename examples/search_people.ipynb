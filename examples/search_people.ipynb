{
 "cells": [
  {
   "cell_type": "code",
   "execution_count": 1,
   "metadata": {},
   "outputs": [],
   "source": [
    "import sys\n",
    "sys.path.append('../')\n",
    "\n",
    "from src.scraper import Authenticator, Scraper\n",
    "\n",
    "%load_ext autoreload\n",
    "%autoreload 2"
   ]
  },
  {
   "cell_type": "code",
   "execution_count": 2,
   "metadata": {},
   "outputs": [
    {
     "name": "stderr",
     "output_type": "stream",
     "text": [
      "INFO:scraper:Loading parameters..\n",
      "\n"
     ]
    },
    {
     "name": "stdout",
     "output_type": "stream",
     "text": [
      "Enter username:example@gmail.com\n",
      "Enter password:········\n"
     ]
    }
   ],
   "source": [
    "# Pass in list [username, password] for automated authentication\n",
    "auth = Authenticator()"
   ]
  },
  {
   "cell_type": "code",
   "execution_count": 3,
   "metadata": {},
   "outputs": [
    {
     "name": "stderr",
     "output_type": "stream",
     "text": [
      "INFO:scraper:Submitting credentials and logging-in\n",
      "\n"
     ]
    }
   ],
   "source": [
    "scraper = Scraper(authenticator=auth)"
   ]
  },
  {
   "cell_type": "code",
   "execution_count": 4,
   "metadata": {
    "scrolled": true
   },
   "outputs": [
    {
     "name": "stderr",
     "output_type": "stream",
     "text": [
      "INFO:scraper:Passed following parameters: {'location': ['xpath', \"//input[contains(@placeholder, 'country')]\", ['London', 'Manchester']], 'industry': ['xpath', \"//input[contains(@placeholder, 'industry')]\", 'Hospitality'], 'job_title': ['xpath', \"//input[@id='search-advanced-title']\", 'Executive Chef']}\n",
      "\n",
      "INFO:scraper:Query returned 519 results\n",
      "\n",
      "INFO:scraper:Reached last searcheable page..\n",
      "INFO:scraper:Retrieved profiles\n"
     ]
    }
   ],
   "source": [
    "people_search = scraper.search_people(job_title='Executive Chef',\n",
    "                                      location=['London', 'Manchester'],\n",
    "                                      industry='Hospitality')"
   ]
  },
  {
   "cell_type": "code",
   "execution_count": 5,
   "metadata": {},
   "outputs": [
    {
     "data": {
      "text/html": [
       "<div>\n",
       "<style scoped>\n",
       "    .dataframe tbody tr th:only-of-type {\n",
       "        vertical-align: middle;\n",
       "    }\n",
       "\n",
       "    .dataframe tbody tr th {\n",
       "        vertical-align: top;\n",
       "    }\n",
       "\n",
       "    .dataframe thead th {\n",
       "        text-align: right;\n",
       "    }\n",
       "</style>\n",
       "<table border=\"1\" class=\"dataframe\">\n",
       "  <thead>\n",
       "    <tr style=\"text-align: right;\">\n",
       "      <th></th>\n",
       "      <th>URL</th>\n",
       "      <th>Name</th>\n",
       "      <th>Title</th>\n",
       "      <th>Location</th>\n",
       "    </tr>\n",
       "  </thead>\n",
       "  <tbody>\n",
       "    <tr>\n",
       "      <th>0</th>\n",
       "      <td>#</td>\n",
       "      <td>LinkedIn Member</td>\n",
       "      <td>exec chef at ciborestaurants</td>\n",
       "      <td>Manchester, United Kingdom</td>\n",
       "    </tr>\n",
       "    <tr>\n",
       "      <th>1</th>\n",
       "      <td>https://www.linkedin.com/in/marcin-bialoskorsk...</td>\n",
       "      <td>Marcin Bialoskorski</td>\n",
       "      <td>Executive Chef in SoLita Restaurants</td>\n",
       "      <td>Manchester, United Kingdom</td>\n",
       "    </tr>\n",
       "    <tr>\n",
       "      <th>2</th>\n",
       "      <td>https://www.linkedin.com/in/jean-philippe-rama...</td>\n",
       "      <td>Jean-Philippe Ramau</td>\n",
       "      <td>Executive Chef chez Gastronomica ME</td>\n",
       "      <td>London, United Kingdom</td>\n",
       "    </tr>\n",
       "  </tbody>\n",
       "</table>\n",
       "</div>"
      ],
      "text/plain": [
       "                                                 URL                 Name  \\\n",
       "0                                                  #      LinkedIn Member   \n",
       "1  https://www.linkedin.com/in/marcin-bialoskorsk...  Marcin Bialoskorski   \n",
       "2  https://www.linkedin.com/in/jean-philippe-rama...  Jean-Philippe Ramau   \n",
       "\n",
       "                                  Title                    Location  \n",
       "0          exec chef at ciborestaurants  Manchester, United Kingdom  \n",
       "1  Executive Chef in SoLita Restaurants  Manchester, United Kingdom  \n",
       "2   Executive Chef chez Gastronomica ME      London, United Kingdom  "
      ]
     },
     "execution_count": 5,
     "metadata": {},
     "output_type": "execute_result"
    }
   ],
   "source": [
    "people_search.head()"
   ]
  }
 ],
 "metadata": {
  "kernelspec": {
   "display_name": ".venv",
   "language": "python",
   "name": ".venv"
  },
  "language_info": {
   "codemirror_mode": {
    "name": "ipython",
    "version": 3
   },
   "file_extension": ".py",
   "mimetype": "text/x-python",
   "name": "python",
   "nbconvert_exporter": "python",
   "pygments_lexer": "ipython3",
   "version": "3.7.3"
  }
 },
 "nbformat": 4,
 "nbformat_minor": 2
}
